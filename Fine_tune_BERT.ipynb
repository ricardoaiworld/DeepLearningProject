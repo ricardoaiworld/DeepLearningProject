{
  "nbformat": 4,
  "nbformat_minor": 0,
  "metadata": {
    "colab": {
      "name": "Fine-tune BERT.ipynb",
      "provenance": [],
      "collapsed_sections": [
        "iaXUb-2YZwlC",
        "sOo9xoViaPj9",
        "U8q6P9v05zsF",
        "O2_lf3VOxWG1",
        "9R1TUhj66UOr",
        "mja53ZFO7AK6",
        "M5cF0iOE_rir"
      ],
      "machine_shape": "hm"
    },
    "kernelspec": {
      "name": "python3",
      "display_name": "Python 3"
    },
    "accelerator": "GPU"
  },
  "cells": [
    {
      "cell_type": "markdown",
      "metadata": {
        "id": "PyKKjt7JSg8J"
      },
      "source": [
        "**CS-GY 9223: Deep Learning Final Project: Solving Natural Language Processing with Disaster Tweets on Kaggle with BERT**\r\n",
        "\r\n",
        "by:\r\n",
        "\r\n",
        "Yan Sun    <ys3928@nyu.edu>\r\n",
        "\r\n",
        "Zhenming Wang <zw2365@nyu.edu>"
      ]
    },
    {
      "cell_type": "markdown",
      "metadata": {
        "id": "tPRcd6EmZTuA"
      },
      "source": [
        "**Section 2: Fine-tune BERT**\r\n",
        "\r\n",
        "Reference:https://curiousily.com/posts/sentiment-analysis-with-bert-and-hugging-face-using-pytorch-and-python/"
      ]
    },
    {
      "cell_type": "markdown",
      "metadata": {
        "id": "iaXUb-2YZwlC"
      },
      "source": [
        "# Step 0: Set Up Working Environment And Libraries"
      ]
    },
    {
      "cell_type": "code",
      "metadata": {
        "colab": {
          "base_uri": "https://localhost:8080/"
        },
        "id": "eOOxVc-ZZo-u",
        "outputId": "5122bb49-84ff-4d64-a808-d4b29256b2a3"
      },
      "source": [
        "from google.colab import drive\r\n",
        "drive.mount('/content/gdrive')"
      ],
      "execution_count": 1,
      "outputs": [
        {
          "output_type": "stream",
          "text": [
            "Mounted at /content/gdrive\n"
          ],
          "name": "stdout"
        }
      ]
    },
    {
      "cell_type": "code",
      "metadata": {
        "colab": {
          "base_uri": "https://localhost:8080/"
        },
        "id": "ELJTnyuyZt3c",
        "outputId": "9c6705a7-506f-4778-82c1-6d48e0f2490c"
      },
      "source": [
        "import os\r\n",
        "os.environ['KAGGLE_CONFIG_DIR'] = \"/content/gdrive/My Drive/Deep Learning Final Project\"   \r\n",
        "                                       \r\n",
        "%cd /content/gdrive/My Drive/Deep Learning Final Project\r\n",
        "\r\n",
        "!pwd"
      ],
      "execution_count": 2,
      "outputs": [
        {
          "output_type": "stream",
          "text": [
            "/content/gdrive/My Drive/Deep Learning Final Project\n",
            "/content/gdrive/My Drive/Deep Learning Final Project\n"
          ],
          "name": "stdout"
        }
      ]
    },
    {
      "cell_type": "code",
      "metadata": {
        "colab": {
          "base_uri": "https://localhost:8080/"
        },
        "id": "-baO6CG0s2nk",
        "outputId": "8002ca8b-1915-4054-d189-a9161136d028"
      },
      "source": [
        "!pip install -qq transformers\r\n",
        "\r\n",
        "import transformers\r\n",
        "from transformers import BertModel, BertTokenizer, AdamW, get_linear_schedule_with_warmup\r\n",
        "import torch\r\n",
        "\r\n",
        "import numpy as np\r\n",
        "import pandas as pd\r\n",
        "import seaborn as sns\r\n",
        "from pylab import rcParams\r\n",
        "import matplotlib.pyplot as plt\r\n",
        "from scipy.stats import spearmanr\r\n",
        "\r\n",
        "from sklearn.model_selection import train_test_split\r\n",
        "from sklearn.metrics import confusion_matrix, classification_report\r\n",
        "from collections import defaultdict\r\n",
        "from textwrap import wrap\r\n",
        "\r\n",
        "from torch import nn, optim\r\n",
        "from torch.utils.data import Dataset, DataLoader\r\n",
        "import torch.nn.functional as F\r\n",
        "\r\n",
        "RANDOM_SEED = 42\r\n",
        "np.random.seed(RANDOM_SEED)\r\n",
        "torch.manual_seed(RANDOM_SEED)\r\n",
        "\r\n",
        "# Detect GPU\r\n",
        "if torch.cuda.is_available():   \r\n",
        "   device = torch.device(\"cuda\")\r\n",
        "   print('Using GPU ', torch.cuda.get_device_name(0))\r\n",
        "else:\r\n",
        "   device = torch.device(\"cpu\")\r\n",
        "   print('Using CPU')"
      ],
      "execution_count": 3,
      "outputs": [
        {
          "output_type": "stream",
          "text": [
            "\u001b[K     |████████████████████████████████| 1.4MB 7.4MB/s \n",
            "\u001b[K     |████████████████████████████████| 2.9MB 24.2MB/s \n",
            "\u001b[K     |████████████████████████████████| 890kB 61.2MB/s \n",
            "\u001b[?25h  Building wheel for sacremoses (setup.py) ... \u001b[?25l\u001b[?25hdone\n",
            "Using GPU  Tesla P100-PCIE-16GB\n"
          ],
          "name": "stdout"
        }
      ]
    },
    {
      "cell_type": "markdown",
      "metadata": {
        "id": "3Gdw_0tgZ9S6"
      },
      "source": [
        "# Step 1: BERT Preprocessing"
      ]
    },
    {
      "cell_type": "markdown",
      "metadata": {
        "id": "sOo9xoViaPj9"
      },
      "source": [
        "## 1.1 Read input data into dataframse"
      ]
    },
    {
      "cell_type": "code",
      "metadata": {
        "id": "MLTUPGHavM2p"
      },
      "source": [
        "# Read in the data cleaned data files \r\n",
        "train = pd.read_csv('train_cleaned.csv')\r\n",
        "test = pd.read_csv('test_cleaned.csv')\r\n"
      ],
      "execution_count": 4,
      "outputs": []
    },
    {
      "cell_type": "code",
      "metadata": {
        "colab": {
          "base_uri": "https://localhost:8080/",
          "height": 198
        },
        "id": "OxcdbDivwze-",
        "outputId": "1c6c3d61-3dbf-4659-bbc3-97347c79d0ae"
      },
      "source": [
        "train.head()"
      ],
      "execution_count": 5,
      "outputs": [
        {
          "output_type": "execute_result",
          "data": {
            "text/html": [
              "<div>\n",
              "<style scoped>\n",
              "    .dataframe tbody tr th:only-of-type {\n",
              "        vertical-align: middle;\n",
              "    }\n",
              "\n",
              "    .dataframe tbody tr th {\n",
              "        vertical-align: top;\n",
              "    }\n",
              "\n",
              "    .dataframe thead th {\n",
              "        text-align: right;\n",
              "    }\n",
              "</style>\n",
              "<table border=\"1\" class=\"dataframe\">\n",
              "  <thead>\n",
              "    <tr style=\"text-align: right;\">\n",
              "      <th></th>\n",
              "      <th>Unnamed: 0</th>\n",
              "      <th>id</th>\n",
              "      <th>keyword</th>\n",
              "      <th>location</th>\n",
              "      <th>text</th>\n",
              "      <th>target</th>\n",
              "    </tr>\n",
              "  </thead>\n",
              "  <tbody>\n",
              "    <tr>\n",
              "      <th>0</th>\n",
              "      <td>0</td>\n",
              "      <td>1</td>\n",
              "      <td>NaN</td>\n",
              "      <td>NaN</td>\n",
              "      <td>Our Deeds are the Reason of this earthquake Ma...</td>\n",
              "      <td>1</td>\n",
              "    </tr>\n",
              "    <tr>\n",
              "      <th>1</th>\n",
              "      <td>1</td>\n",
              "      <td>4</td>\n",
              "      <td>NaN</td>\n",
              "      <td>NaN</td>\n",
              "      <td>Forest fire near La Ronge Sask Canada</td>\n",
              "      <td>1</td>\n",
              "    </tr>\n",
              "    <tr>\n",
              "      <th>2</th>\n",
              "      <td>2</td>\n",
              "      <td>5</td>\n",
              "      <td>NaN</td>\n",
              "      <td>NaN</td>\n",
              "      <td>All residents asked to shelter in place are be...</td>\n",
              "      <td>1</td>\n",
              "    </tr>\n",
              "    <tr>\n",
              "      <th>3</th>\n",
              "      <td>3</td>\n",
              "      <td>6</td>\n",
              "      <td>NaN</td>\n",
              "      <td>NaN</td>\n",
              "      <td>13000 people receive wildfires evacuation orde...</td>\n",
              "      <td>1</td>\n",
              "    </tr>\n",
              "    <tr>\n",
              "      <th>4</th>\n",
              "      <td>4</td>\n",
              "      <td>7</td>\n",
              "      <td>NaN</td>\n",
              "      <td>NaN</td>\n",
              "      <td>Just got sent this photo from Ruby Alaska as s...</td>\n",
              "      <td>1</td>\n",
              "    </tr>\n",
              "  </tbody>\n",
              "</table>\n",
              "</div>"
            ],
            "text/plain": [
              "   Unnamed: 0  id  ...                                               text target\n",
              "0           0   1  ...  Our Deeds are the Reason of this earthquake Ma...      1\n",
              "1           1   4  ...              Forest fire near La Ronge Sask Canada      1\n",
              "2           2   5  ...  All residents asked to shelter in place are be...      1\n",
              "3           3   6  ...  13000 people receive wildfires evacuation orde...      1\n",
              "4           4   7  ...  Just got sent this photo from Ruby Alaska as s...      1\n",
              "\n",
              "[5 rows x 6 columns]"
            ]
          },
          "metadata": {
            "tags": []
          },
          "execution_count": 5
        }
      ]
    },
    {
      "cell_type": "markdown",
      "metadata": {
        "id": "U8q6P9v05zsF"
      },
      "source": [
        "## 1.2 Helper function for tokenization and dataloader"
      ]
    },
    {
      "cell_type": "code",
      "metadata": {
        "id": "j9-0nVGlvsmg"
      },
      "source": [
        "# Helper function to tokenize a dataset using BERT tokenizer\r\n",
        "class DisasterTweetDataset(Dataset):\r\n",
        "  def __init__(self, text, targets, tokenizer, max_len):\r\n",
        "    self.text = text\r\n",
        "    self.targets = targets\r\n",
        "    self.tokenizer = tokenizer\r\n",
        "    self.max_len = max_len\r\n",
        "  def __len__(self):\r\n",
        "    return len(self.text)\r\n",
        "  def __getitem__(self, item):\r\n",
        "    text = str(self.text[item])\r\n",
        "    target = self.targets[item]\r\n",
        "    encoding = self.tokenizer.encode_plus(\r\n",
        "      text,\r\n",
        "      add_special_tokens=True,\r\n",
        "      max_length=self.max_len,\r\n",
        "      truncation=True,\r\n",
        "      return_token_type_ids=False,\r\n",
        "      padding='max_length',\r\n",
        "      return_attention_mask=True,\r\n",
        "      return_tensors='pt',\r\n",
        "    )\r\n",
        "    return {\r\n",
        "      'text': text,\r\n",
        "      'input_ids': encoding['input_ids'].flatten(),\r\n",
        "      'attention_mask': encoding['attention_mask'].flatten(),\r\n",
        "      'targets': torch.tensor(target, dtype=torch.long)\r\n",
        "    }"
      ],
      "execution_count": 29,
      "outputs": []
    },
    {
      "cell_type": "code",
      "metadata": {
        "id": "PtN3MD-fwhGM"
      },
      "source": [
        "# Helper function to create dataloaders\r\n",
        "def create_data_loader(df, tokenizer, max_len, batch_size):\r\n",
        "  ds = DisasterTweetDataset(\r\n",
        "    text=df.text.to_numpy(),\r\n",
        "    targets=df.target.to_numpy(),\r\n",
        "    tokenizer=tokenizer,\r\n",
        "    max_len=max_len\r\n",
        "  )\r\n",
        "  return DataLoader(\r\n",
        "    ds,\r\n",
        "    batch_size=batch_size,\r\n",
        "    num_workers=4\r\n",
        "  )"
      ],
      "execution_count": 16,
      "outputs": []
    },
    {
      "cell_type": "markdown",
      "metadata": {
        "id": "O2_lf3VOxWG1"
      },
      "source": [
        "## 1.3 The BERT Model"
      ]
    },
    {
      "cell_type": "code",
      "metadata": {
        "id": "NlohvPZMxct-"
      },
      "source": [
        "class FinetuneBertClassifier(nn.Module):\r\n",
        "  def __init__(self, n_classes):\r\n",
        "    super(FinetuneBertClassifier, self).__init__()\r\n",
        "    self.bert = BertModel.from_pretrained(PRE_TRAINED_MODEL_NAME)\r\n",
        "    self.drop = nn.Dropout(p=0.3)\r\n",
        "    self.out = nn.Linear(self.bert.config.hidden_size, n_classes)\r\n",
        "  def forward(self, input_ids, attention_mask):\r\n",
        "    outputs = self.bert(\r\n",
        "      input_ids=input_ids,\r\n",
        "      attention_mask=attention_mask\r\n",
        "    )\r\n",
        "    output = self.drop(outputs[1])\r\n",
        "    return self.out(output)"
      ],
      "execution_count": 17,
      "outputs": []
    },
    {
      "cell_type": "markdown",
      "metadata": {
        "id": "9R1TUhj66UOr"
      },
      "source": [
        "## 1.4 Training and Evaluating Epoch"
      ]
    },
    {
      "cell_type": "code",
      "metadata": {
        "id": "6wWDC0nayfAZ"
      },
      "source": [
        "# This method defines the operations in one trainning epoch\r\n",
        "def train_epoch(\r\n",
        "  model,\r\n",
        "  data_loader,\r\n",
        "  loss_fn,\r\n",
        "  optimizer,\r\n",
        "  device,\r\n",
        "  scheduler,\r\n",
        "  n_examples\r\n",
        "):\r\n",
        "  model = model.train()\r\n",
        "  losses = []\r\n",
        "  correct_predictions = 0\r\n",
        "\r\n",
        "\r\n",
        "  for d in data_loader:\r\n",
        "    input_ids = d[\"input_ids\"].to(device)\r\n",
        "    attention_mask = d[\"attention_mask\"].to(device)\r\n",
        "    targets = d[\"targets\"].to(device)\r\n",
        "    outputs = model(\r\n",
        "      input_ids=input_ids,\r\n",
        "      attention_mask=attention_mask\r\n",
        "    )\r\n",
        "    _, preds = torch.max(outputs, dim=1)\r\n",
        "    loss = loss_fn(outputs, targets)\r\n",
        "    correct_predictions += torch.sum(preds == targets)\r\n",
        "    losses.append(loss.item())\r\n",
        "    loss.backward()\r\n",
        "    nn.utils.clip_grad_norm_(model.parameters(), max_norm=1.0)\r\n",
        "    optimizer.step()\r\n",
        "    scheduler.step()\r\n",
        "    optimizer.zero_grad()\r\n",
        "\r\n",
        "      \r\n",
        "  return correct_predictions.double() / n_examples, np.mean(losses)"
      ],
      "execution_count": 42,
      "outputs": []
    },
    {
      "cell_type": "code",
      "metadata": {
        "id": "RrVJpnSOyuEn"
      },
      "source": [
        "# This method defines the operations in one evaluating epoch\r\n",
        "def eval_model(model, data_loader, loss_fn, device, n_examples):\r\n",
        "  model = model.eval()\r\n",
        "  losses = []\r\n",
        "  correct_predictions = 0\r\n",
        "  with torch.no_grad():\r\n",
        "    for d in data_loader:\r\n",
        "      input_ids = d[\"input_ids\"].to(device)\r\n",
        "      attention_mask = d[\"attention_mask\"].to(device)\r\n",
        "      targets = d[\"targets\"].to(device)\r\n",
        "      outputs = model(\r\n",
        "        input_ids=input_ids,\r\n",
        "        attention_mask=attention_mask\r\n",
        "      )\r\n",
        "      _, preds = torch.max(outputs, dim=1)\r\n",
        "      loss = loss_fn(outputs, targets)\r\n",
        "      correct_predictions += torch.sum(preds == targets)\r\n",
        "      losses.append(loss.item())\r\n",
        "  return correct_predictions.double() / n_examples, np.mean(losses)"
      ],
      "execution_count": 19,
      "outputs": []
    },
    {
      "cell_type": "markdown",
      "metadata": {
        "id": "dDMOtHpV67qc"
      },
      "source": [
        "# Step 2: Training"
      ]
    },
    {
      "cell_type": "markdown",
      "metadata": {
        "id": "mja53ZFO7AK6"
      },
      "source": [
        "## 2.1 Hyperparameter Tuning"
      ]
    },
    {
      "cell_type": "markdown",
      "metadata": {
        "id": "3g152CI19FQ6"
      },
      "source": [
        "For this project, we will be tuning with learning rate. For a given choice of learning rate, we apply 5-fold cross validation on the training set and train for 5 epochs\r\n",
        " within each fold."
      ]
    },
    {
      "cell_type": "code",
      "metadata": {
        "id": "dSLumj4u5DKT"
      },
      "source": [
        "# Hyperparam tuning \r\n",
        "lr_list = [1e-5, 2e-5, 5e-5]\r\n",
        "\r\n",
        "# Define some constants\r\n",
        "PRE_TRAINED_MODEL_NAME = 'bert-base-uncased'\r\n",
        "EPOCHS = 5\r\n",
        "BATCH_SIZE = 32\r\n",
        "DROPOUT = 0.3\r\n",
        "MAX_LEN = 32\r\n",
        "TOKENIZER = BertTokenizer.from_pretrained(PRE_TRAINED_MODEL_NAME)\r\n",
        "\r\n"
      ],
      "execution_count": 44,
      "outputs": []
    },
    {
      "cell_type": "code",
      "metadata": {
        "id": "gWQN_16sccae"
      },
      "source": [
        "from sklearn.model_selection import KFold\r\n",
        "# Cross Validation\r\n",
        "kf = KFold(n_splits=5, shuffle=True)"
      ],
      "execution_count": 45,
      "outputs": []
    },
    {
      "cell_type": "code",
      "metadata": {
        "colab": {
          "base_uri": "https://localhost:8080/"
        },
        "id": "Lrc65YVkcgdB",
        "outputId": "6ddeb346-8d04-4cc5-a1e6-6c0a064e959d"
      },
      "source": [
        "\r\n",
        "# For each learning rate\r\n",
        "lr_history_list = []\r\n",
        "for lr in lr_list:\r\n",
        "  print('Learning rate: ', lr)\r\n",
        "  print('-' * 10)\r\n",
        "\r\n",
        "  # Create model instance\r\n",
        "  model = FinetuneBertClassifier(2)\r\n",
        "  model = model.to(device)\r\n",
        "  \r\n",
        "  # Define optimizer, loss fucntion and scheduler\r\n",
        "  optimizer = AdamW(model.parameters(), lr=lr, correct_bias=False)\r\n",
        "  total_steps = len(train_data_loader) * EPOCHS\r\n",
        "  scheduler = get_linear_schedule_with_warmup(\r\n",
        "    optimizer,\r\n",
        "    num_warmup_steps=0,\r\n",
        "    num_training_steps=total_steps\r\n",
        "  )\r\n",
        "  loss_fn = nn.CrossEntropyLoss().to(device)\r\n",
        "\r\n",
        "\r\n",
        "  fold_history_list = []\r\n",
        "  fold_count = 1\r\n",
        "  # For each choice of lr, perform 5-fold cross validation\r\n",
        "  for train_index, val_index in kf.split(train):\r\n",
        "    # Within each fold\r\n",
        "    print('Fold: ', fold_count)\r\n",
        "    print('-' * 10)\r\n",
        "    fold_count += 1\r\n",
        "\r\n",
        "    # Split the training data into train and validation set\r\n",
        "    train_data = train.iloc[train_index] \r\n",
        "    val_data = train.iloc[val_index] \r\n",
        "\r\n",
        "    # Count the number of training and validation set\r\n",
        "    num_train_data = len(train_data)\r\n",
        "    num_val_data = len(val_data)\r\n",
        "\r\n",
        "    # Create dataloaders for training and validation set\r\n",
        "    train_data_loader = create_data_loader(train_data, TOKENIZER, MAX_LEN, BATCH_SIZE)\r\n",
        "    val_data_loader = create_data_loader(val_data, TOKENIZER, MAX_LEN, BATCH_SIZE)\r\n",
        "\r\n",
        "\r\n",
        "    # Train the model for some number of epochs\r\n",
        "    history = defaultdict(list)\r\n",
        "\r\n",
        "    for epoch in range(EPOCHS):\r\n",
        "      print(f'Epoch {epoch + 1}/{EPOCHS}')\r\n",
        "      print('-' * 10)\r\n",
        "\r\n",
        "      # Train\r\n",
        "      train_acc, train_loss = train_epoch(\r\n",
        "        model,\r\n",
        "        train_data_loader,\r\n",
        "        loss_fn,\r\n",
        "        optimizer,\r\n",
        "        device,\r\n",
        "        scheduler,\r\n",
        "        len(train_data)\r\n",
        "      )\r\n",
        "      print(f'Train loss {train_loss} accuracy {train_acc}')\r\n",
        "\r\n",
        "      # Validate\r\n",
        "      val_acc, val_loss = eval_model(\r\n",
        "        model,\r\n",
        "        val_data_loader,\r\n",
        "        loss_fn,\r\n",
        "        device,\r\n",
        "        len(val_data)\r\n",
        "      )\r\n",
        "      print(f'Val   loss {val_loss} accuracy {val_acc}')\r\n",
        "    \r\n",
        "      history['train_acc'].append(train_acc)\r\n",
        "      history['train_loss'].append(train_loss)\r\n",
        "      history['val_acc'].append(val_acc)\r\n",
        "      history['val_loss'].append(val_loss)\r\n",
        "\r\n",
        "    # When we finish all epochs of current fold, \r\n",
        "    # history will be of size (4, EPOCHS)\r\n",
        "\r\n",
        "\r\n",
        "    # Then we append all epoch histories in current fold\r\n",
        "    # into fold_history_list\r\n",
        "    fold_history_list.append(history)\r\n",
        "  \r\n",
        "  # When we are done with all 5 folds given a spefic value of lr,\r\n",
        "  # we append current fold history into lr_history_list\r\n",
        "  lr_history_list.append(fold_history_list)\r\n",
        "    \r\n"
      ],
      "execution_count": 46,
      "outputs": [
        {
          "output_type": "stream",
          "text": [
            "Learning rate:  1e-05\n",
            "----------\n",
            "Fold:  1\n",
            "----------\n",
            "Epoch 1/5\n",
            "----------\n",
            "Train loss 0.5130284367646066 accuracy 0.755336617405583\n",
            "Val   loss 0.4053769189243515 accuracy 0.8227183191070255\n",
            "Epoch 2/5\n",
            "----------\n",
            "Train loss 0.34924935056530526 accuracy 0.8617405582922825\n",
            "Val   loss 0.4266646867617965 accuracy 0.8279711096520026\n",
            "Epoch 3/5\n",
            "----------\n",
            "Train loss 0.2650770402308651 accuracy 0.9\n",
            "Val   loss 0.4578178980542968 accuracy 0.8378200919238344\n",
            "Epoch 4/5\n",
            "----------\n",
            "Train loss 0.21231217803043453 accuracy 0.9236453201970444\n",
            "Val   loss 0.5262484549311921 accuracy 0.8279711096520026\n",
            "Epoch 5/5\n",
            "----------\n",
            "Train loss 0.18044005631205884 accuracy 0.939408866995074\n",
            "Val   loss 0.5222695166788375 accuracy 0.8266579120157583\n",
            "Fold:  2\n",
            "----------\n",
            "Epoch 1/5\n",
            "----------\n",
            "Train loss 0.2507795612339945 accuracy 0.9137931034482759\n",
            "Val   loss 0.15359202568652108 accuracy 0.9520682862770846\n",
            "Epoch 2/5\n",
            "----------\n",
            "Train loss 0.25375698569245364 accuracy 0.9129720853858785\n",
            "Val   loss 0.15359202568652108 accuracy 0.9520682862770846\n",
            "Epoch 3/5\n",
            "----------\n",
            "Train loss 0.2520228692199986 accuracy 0.9118226600985222\n",
            "Val   loss 0.15359202568652108 accuracy 0.9520682862770846\n",
            "Epoch 4/5\n",
            "----------\n",
            "Train loss 0.24786346156335393 accuracy 0.9121510673234812\n",
            "Val   loss 0.15359202568652108 accuracy 0.9520682862770846\n",
            "Epoch 5/5\n",
            "----------\n",
            "Train loss 0.2567492142704886 accuracy 0.9113300492610837\n",
            "Val   loss 0.15359202568652108 accuracy 0.9520682862770846\n",
            "Fold:  3\n",
            "----------\n",
            "Epoch 1/5\n",
            "----------\n",
            "Train loss 0.2540946364151655 accuracy 0.9136288998357964\n",
            "Val   loss 0.14599168356896067 accuracy 0.9527248850952067\n",
            "Epoch 2/5\n",
            "----------\n",
            "Train loss 0.24975767880873218 accuracy 0.9124794745484401\n",
            "Val   loss 0.14599168356896067 accuracy 0.9527248850952067\n",
            "Epoch 3/5\n",
            "----------\n",
            "Train loss 0.2530389899322129 accuracy 0.913136288998358\n",
            "Val   loss 0.14599168356896067 accuracy 0.9527248850952067\n",
            "Epoch 4/5\n",
            "----------\n",
            "Train loss 0.2519258521923903 accuracy 0.9129720853858785\n",
            "Val   loss 0.14599168356896067 accuracy 0.9527248850952067\n",
            "Epoch 5/5\n",
            "----------\n",
            "Train loss 0.25013097613825613 accuracy 0.9144499178981937\n",
            "Val   loss 0.14599168356896067 accuracy 0.9527248850952067\n",
            "Fold:  4\n",
            "----------\n",
            "Epoch 1/5\n",
            "----------\n",
            "Train loss 0.2593717943872106 accuracy 0.911672960105073\n",
            "Val   loss 0.14804322099856412 accuracy 0.9487516425755584\n",
            "Epoch 2/5\n",
            "----------\n",
            "Train loss 0.25562709170949516 accuracy 0.911672960105073\n",
            "Val   loss 0.14804322099856412 accuracy 0.9487516425755584\n",
            "Epoch 3/5\n",
            "----------\n",
            "Train loss 0.2511591541645463 accuracy 0.9147923165325891\n",
            "Val   loss 0.14804322099856412 accuracy 0.9487516425755584\n",
            "Epoch 4/5\n",
            "----------\n",
            "Train loss 0.25346706877706365 accuracy 0.9141356099162699\n",
            "Val   loss 0.14804322099856412 accuracy 0.9487516425755584\n",
            "Epoch 5/5\n",
            "----------\n",
            "Train loss 0.2545235136838347 accuracy 0.9141356099162699\n",
            "Val   loss 0.14804322099856412 accuracy 0.9487516425755584\n",
            "Fold:  5\n",
            "----------\n",
            "Epoch 1/5\n",
            "----------\n",
            "Train loss 0.25958100151689967 accuracy 0.9129863733377114\n",
            "Val   loss 0.1286983306199545 accuracy 0.9559789750328516\n",
            "Epoch 2/5\n",
            "----------\n",
            "Train loss 0.2605472692807756 accuracy 0.9106879001805943\n",
            "Val   loss 0.1286983306199545 accuracy 0.9559789750328516\n",
            "Epoch 3/5\n",
            "----------\n",
            "Train loss 0.2532228345066036 accuracy 0.9142997865703497\n",
            "Val   loss 0.1286983306199545 accuracy 0.9559789750328516\n",
            "Epoch 4/5\n",
            "----------\n",
            "Train loss 0.2584538074388261 accuracy 0.910195370218355\n",
            "Val   loss 0.1286983306199545 accuracy 0.9559789750328516\n",
            "Epoch 5/5\n",
            "----------\n",
            "Train loss 0.2659034570715639 accuracy 0.9098670169101953\n",
            "Val   loss 0.1286983306199545 accuracy 0.9559789750328516\n",
            "Learning rate:  2e-05\n",
            "----------\n",
            "Fold:  1\n",
            "----------\n",
            "Epoch 1/5\n",
            "----------\n",
            "Train loss 0.5290650328650525 accuracy 0.7609195402298851\n",
            "Val   loss 0.39005325579394895 accuracy 0.8273145108338804\n",
            "Epoch 2/5\n",
            "----------\n",
            "Train loss 0.35984412145298655 accuracy 0.8573070607553367\n",
            "Val   loss 0.4503088945833345 accuracy 0.8049901510177281\n",
            "Epoch 3/5\n",
            "----------\n",
            "Train loss 0.24888874145946344 accuracy 0.906568144499179\n",
            "Val   loss 0.5220921556465328 accuracy 0.8102429415627052\n",
            "Epoch 4/5\n",
            "----------\n",
            "Train loss 0.17443689724786393 accuracy 0.9367816091954023\n",
            "Val   loss 0.5973940906502927 accuracy 0.8214051214707813\n",
            "Epoch 5/5\n",
            "----------\n",
            "Train loss 0.11821457799353408 accuracy 0.958456486042693\n",
            "Val   loss 0.6228816600050777 accuracy 0.8214051214707813\n",
            "Fold:  2\n",
            "----------\n",
            "Epoch 1/5\n",
            "----------\n",
            "Train loss 0.22540072899882277 accuracy 0.9274220032840723\n",
            "Val   loss 0.08793237753464685 accuracy 0.9678266579120157\n",
            "Epoch 2/5\n",
            "----------\n",
            "Train loss 0.22855541031656504 accuracy 0.9279146141215107\n",
            "Val   loss 0.08793237753464685 accuracy 0.9678266579120157\n",
            "Epoch 3/5\n",
            "----------\n",
            "Train loss 0.227544732499107 accuracy 0.9282430213464696\n",
            "Val   loss 0.08793237753464685 accuracy 0.9678266579120157\n",
            "Epoch 4/5\n",
            "----------\n",
            "Train loss 0.23529999290290654 accuracy 0.9269293924466339\n",
            "Val   loss 0.08793237753464685 accuracy 0.9678266579120157\n",
            "Epoch 5/5\n",
            "----------\n",
            "Train loss 0.2344598545392985 accuracy 0.9246305418719212\n",
            "Val   loss 0.08793237753464685 accuracy 0.9678266579120157\n",
            "Fold:  3\n",
            "----------\n",
            "Epoch 1/5\n",
            "----------\n",
            "Train loss 0.23277889910953714 accuracy 0.9302134646962233\n",
            "Val   loss 0.09798949135680839 accuracy 0.9652002626395272\n",
            "Epoch 2/5\n",
            "----------\n",
            "Train loss 0.224185396519158 accuracy 0.9302134646962233\n",
            "Val   loss 0.09798949135680839 accuracy 0.9652002626395272\n",
            "Epoch 3/5\n",
            "----------\n",
            "Train loss 0.22359508923035484 accuracy 0.9321839080459771\n",
            "Val   loss 0.09798949135680839 accuracy 0.9652002626395272\n",
            "Epoch 4/5\n",
            "----------\n",
            "Train loss 0.22477709748587177 accuracy 0.9295566502463054\n",
            "Val   loss 0.09798949135680839 accuracy 0.9652002626395272\n",
            "Epoch 5/5\n",
            "----------\n",
            "Train loss 0.23040479472996814 accuracy 0.9269293924466339\n",
            "Val   loss 0.09798949135680839 accuracy 0.9652002626395272\n",
            "Fold:  4\n",
            "----------\n",
            "Epoch 1/5\n",
            "----------\n",
            "Train loss 0.23463913733054304 accuracy 0.9262846823181743\n",
            "Val   loss 0.08065397294800884 accuracy 0.9691195795006571\n",
            "Epoch 2/5\n",
            "----------\n",
            "Train loss 0.23574374867932316 accuracy 0.9256279757018552\n",
            "Val   loss 0.08065397294800884 accuracy 0.9691195795006571\n",
            "Epoch 3/5\n",
            "----------\n",
            "Train loss 0.23797975229806417 accuracy 0.9261205056640945\n",
            "Val   loss 0.08065397294800884 accuracy 0.9691195795006571\n",
            "Epoch 4/5\n",
            "----------\n",
            "Train loss 0.23392708119948477 accuracy 0.9282548021671319\n",
            "Val   loss 0.08065397294800884 accuracy 0.9691195795006571\n",
            "Epoch 5/5\n",
            "----------\n",
            "Train loss 0.23486546680687181 accuracy 0.9277622722048925\n",
            "Val   loss 0.08065397294800884 accuracy 0.9691195795006571\n",
            "Fold:  5\n",
            "----------\n",
            "Epoch 1/5\n",
            "----------\n",
            "Train loss 0.24023188864909775 accuracy 0.9248070924314562\n",
            "Val   loss 0.05842420992606397 accuracy 0.9763469119579501\n",
            "Epoch 2/5\n",
            "----------\n",
            "Train loss 0.24326364355434843 accuracy 0.9241503858151371\n",
            "Val   loss 0.05842420992606397 accuracy 0.9763469119579501\n",
            "Epoch 3/5\n",
            "----------\n",
            "Train loss 0.2394324801435587 accuracy 0.9241503858151371\n",
            "Val   loss 0.05842420992606397 accuracy 0.9763469119579501\n",
            "Epoch 4/5\n",
            "----------\n",
            "Train loss 0.2397043058875441 accuracy 0.9267772122804137\n",
            "Val   loss 0.05842420992606397 accuracy 0.9763469119579501\n",
            "Epoch 5/5\n",
            "----------\n",
            "Train loss 0.233259010000681 accuracy 0.9254637990477754\n",
            "Val   loss 0.05842420992606397 accuracy 0.9763469119579501\n",
            "Learning rate:  5e-05\n",
            "----------\n",
            "Fold:  1\n",
            "----------\n",
            "Epoch 1/5\n",
            "----------\n",
            "Train loss 0.7446132643996733 accuracy 0.5146141215106732\n",
            "Val   loss 0.6753781127432982 accuracy 0.6211424819435325\n",
            "Epoch 2/5\n",
            "----------\n",
            "Train loss 0.7303430261724282 accuracy 0.5208538587848933\n",
            "Val   loss 0.6693197054167589 accuracy 0.6211424819435325\n",
            "Epoch 3/5\n",
            "----------\n",
            "Train loss 0.7244691638110196 accuracy 0.5333333333333333\n",
            "Val   loss 0.6754957723120848 accuracy 0.6211424819435325\n",
            "Epoch 4/5\n",
            "----------\n",
            "Train loss 0.7183134377938915 accuracy 0.5280788177339901\n",
            "Val   loss 0.6700711436569691 accuracy 0.6211424819435325\n",
            "Epoch 5/5\n",
            "----------\n",
            "Train loss 0.7154919258587024 accuracy 0.5241379310344828\n",
            "Val   loss 0.6692064888775349 accuracy 0.6211424819435325\n",
            "Fold:  2\n",
            "----------\n",
            "Epoch 1/5\n",
            "----------\n",
            "Train loss 0.7101444383566292 accuracy 0.5229885057471264\n",
            "Val   loss 0.6792360780139765 accuracy 0.5869993434011819\n",
            "Epoch 2/5\n",
            "----------\n",
            "Train loss 0.7062396513229889 accuracy 0.5318555008210181\n",
            "Val   loss 0.6792360780139765 accuracy 0.5869993434011819\n",
            "Epoch 3/5\n",
            "----------\n",
            "Train loss 0.7020352957136344 accuracy 0.5403940886699508\n",
            "Val   loss 0.6792360780139765 accuracy 0.5869993434011819\n",
            "Epoch 4/5\n",
            "----------\n",
            "Train loss 0.7027493175411723 accuracy 0.5385878489326765\n",
            "Val   loss 0.6792360780139765 accuracy 0.5869993434011819\n",
            "Epoch 5/5\n",
            "----------\n",
            "Train loss 0.7040200589214944 accuracy 0.538752052545156\n",
            "Val   loss 0.6792360780139765 accuracy 0.5869993434011819\n",
            "Fold:  3\n",
            "----------\n",
            "Epoch 1/5\n",
            "----------\n",
            "Train loss 0.699890116746513 accuracy 0.542528735632184\n",
            "Val   loss 0.6982433795928955 accuracy 0.5200262639527249\n",
            "Epoch 2/5\n",
            "----------\n",
            "Train loss 0.7012917402527095 accuracy 0.5433497536945813\n",
            "Val   loss 0.6982433795928955 accuracy 0.5200262639527249\n",
            "Epoch 3/5\n",
            "----------\n",
            "Train loss 0.6985117387397127 accuracy 0.5420361247947455\n",
            "Val   loss 0.6982433795928955 accuracy 0.5200262639527249\n",
            "Epoch 4/5\n",
            "----------\n",
            "Train loss 0.6979243533773573 accuracy 0.545648604269294\n",
            "Val   loss 0.6982433795928955 accuracy 0.5200262639527249\n",
            "Epoch 5/5\n",
            "----------\n",
            "Train loss 0.6986631579424074 accuracy 0.5417077175697865\n",
            "Val   loss 0.6982433795928955 accuracy 0.5200262639527249\n",
            "Fold:  4\n",
            "----------\n",
            "Epoch 1/5\n",
            "----------\n",
            "Train loss 0.7081351782638989 accuracy 0.5289771794450829\n",
            "Val   loss 0.6778418657680353 accuracy 0.5893561103810775\n",
            "Epoch 2/5\n",
            "----------\n",
            "Train loss 0.706357379234274 accuracy 0.5314398292562797\n",
            "Val   loss 0.6778418657680353 accuracy 0.5893561103810775\n",
            "Epoch 3/5\n",
            "----------\n",
            "Train loss 0.7083574517859215 accuracy 0.5320965358725989\n",
            "Val   loss 0.6778418657680353 accuracy 0.5893561103810775\n",
            "Epoch 4/5\n",
            "----------\n",
            "Train loss 0.7001782509044827 accuracy 0.5404695452306681\n",
            "Val   loss 0.6778418657680353 accuracy 0.5893561103810775\n",
            "Epoch 5/5\n",
            "----------\n",
            "Train loss 0.7006151242405957 accuracy 0.5450664915449023\n",
            "Val   loss 0.6778418657680353 accuracy 0.5893561103810775\n",
            "Fold:  5\n",
            "----------\n",
            "Epoch 1/5\n",
            "----------\n",
            "Train loss 0.7001465190767617 accuracy 0.5388277786898703\n",
            "Val   loss 0.6953762123982111 accuracy 0.5341655716162944\n",
            "Epoch 2/5\n",
            "----------\n",
            "Train loss 0.6997712463608587 accuracy 0.5434247250041044\n",
            "Val   loss 0.6953762123982111 accuracy 0.5341655716162944\n",
            "Epoch 3/5\n",
            "----------\n",
            "Train loss 0.6997994490318897 accuracy 0.5347233623378755\n",
            "Val   loss 0.6953762123982111 accuracy 0.5341655716162944\n",
            "Epoch 4/5\n",
            "----------\n",
            "Train loss 0.6994096440170448 accuracy 0.5429321950418651\n",
            "Val   loss 0.6953762123982111 accuracy 0.5341655716162944\n",
            "Epoch 5/5\n",
            "----------\n",
            "Train loss 0.6990966060398761 accuracy 0.5414546051551469\n",
            "Val   loss 0.6953762123982111 accuracy 0.5341655716162944\n"
          ],
          "name": "stdout"
        }
      ]
    },
    {
      "cell_type": "code",
      "metadata": {
        "colab": {
          "base_uri": "https://localhost:8080/"
        },
        "id": "-qjJRn4pik3N",
        "outputId": "e5438ada-c2ea-4954-c20e-32748c51ab18"
      },
      "source": [
        "len(lr_history_list) # 3 because we are tuning with 3 different values of lr's"
      ],
      "execution_count": 47,
      "outputs": [
        {
          "output_type": "execute_result",
          "data": {
            "text/plain": [
              "3"
            ]
          },
          "metadata": {
            "tags": []
          },
          "execution_count": 47
        }
      ]
    },
    {
      "cell_type": "code",
      "metadata": {
        "colab": {
          "base_uri": "https://localhost:8080/"
        },
        "id": "OspSw5C7oWzP",
        "outputId": "b9213129-2ee6-4502-947f-14a0c76f5a38"
      },
      "source": [
        "len(lr_history_list[0]) # 5 because we do 5-fold cross validation for each choice of lr"
      ],
      "execution_count": 48,
      "outputs": [
        {
          "output_type": "execute_result",
          "data": {
            "text/plain": [
              "5"
            ]
          },
          "metadata": {
            "tags": []
          },
          "execution_count": 48
        }
      ]
    },
    {
      "cell_type": "code",
      "metadata": {
        "colab": {
          "base_uri": "https://localhost:8080/"
        },
        "id": "7OGWoQ_-obnL",
        "outputId": "ee905628-05e2-4b34-fef0-12ed51c77249"
      },
      "source": [
        "lr_history_list[0][0]['train_acc'] # a list of 5 tensors because we train for 5 epochs within each fold"
      ],
      "execution_count": 49,
      "outputs": [
        {
          "output_type": "execute_result",
          "data": {
            "text/plain": [
              "[tensor(0.7553, device='cuda:0', dtype=torch.float64),\n",
              " tensor(0.8617, device='cuda:0', dtype=torch.float64),\n",
              " tensor(0.9000, device='cuda:0', dtype=torch.float64),\n",
              " tensor(0.9236, device='cuda:0', dtype=torch.float64),\n",
              " tensor(0.9394, device='cuda:0', dtype=torch.float64)]"
            ]
          },
          "metadata": {
            "tags": []
          },
          "execution_count": 49
        }
      ]
    },
    {
      "cell_type": "code",
      "metadata": {
        "id": "FEaFjuqUofXP"
      },
      "source": [
        "# Make a plot of the validation loss during training\r\n",
        "lr_val_loss = []\r\n",
        "for folds in lr_history_list:\r\n",
        "  # Compute average validation loss of each fold with current lr\r\n",
        "  folds_val_loss = []\r\n",
        "  for fold in folds:\r\n",
        "    # Calculate the average of val_loss of all epochs within current fold\r\n",
        "    fold_val_loss_avg = np.mean(fold['val_loss'])\r\n",
        "\r\n",
        "    folds_val_loss.append(fold_val_loss_avg)\r\n",
        "  \r\n",
        "  lr_val_loss.append(folds_val_loss)\r\n"
      ],
      "execution_count": 50,
      "outputs": []
    },
    {
      "cell_type": "code",
      "metadata": {
        "colab": {
          "base_uri": "https://localhost:8080/",
          "height": 283
        },
        "id": "eO7_3GoxqUkh",
        "outputId": "c0b2226b-b03c-4c85-d2cf-fd58eac9e561"
      },
      "source": [
        "i = 0\r\n",
        "for folds_val_loss in lr_val_loss:\r\n",
        "  plt.plot(np.arange(5),folds_val_loss, label='lr = '+str(lr_list[i]))\r\n",
        "  plt.ylabel('Validation loss')\r\n",
        "  plt.xlabel('Fold')\r\n",
        "  plt.legend()\r\n",
        "  plt.ylim([0, 1])\r\n",
        "  i += 1"
      ],
      "execution_count": 56,
      "outputs": [
        {
          "output_type": "display_data",
          "data": {
            "image/png": "[encoded data removed]",
            "text/plain": [
              "<Figure size 432x288 with 1 Axes>"
            ]
          },
          "metadata": {
            "tags": [],
            "needs_background": "light"
          }
        }
      ]
    },
    {
      "cell_type": "markdown",
      "metadata": {
        "id": "G6gEbr_Y5P0x"
      },
      "source": [
        "**Conclusion:**\r\n",
        "\r\n",
        "From the above graph, we conlude that learning rate of 2e-5 gives the least validation loss, therefore the best performance."
      ]
    },
    {
      "cell_type": "markdown",
      "metadata": {
        "id": "BBuw3vpk9NxJ"
      },
      "source": [
        "## Train with Optimal Hyperparameter"
      ]
    },
    {
      "cell_type": "markdown",
      "metadata": {
        "id": "zLoobXDF9pNx"
      },
      "source": [
        "We choose the optimal learning rate 2e-5 we got from previous step, train for 10 epochs with the whole dataset."
      ]
    },
    {
      "cell_type": "code",
      "metadata": {
        "id": "hRCQL1gHq9jU"
      },
      "source": [
        "# Define some constants\r\n",
        "lr = 2e-5\r\n",
        "\r\n",
        "PRE_TRAINED_MODEL_NAME = 'bert-base-uncased'\r\n",
        "EPOCHS = 5\r\n",
        "BATCH_SIZE = 32\r\n",
        "DROPOUT = 0.3\r\n",
        "MAX_LEN = 32\r\n",
        "TOKENIZER = BertTokenizer.from_pretrained(PRE_TRAINED_MODEL_NAME)"
      ],
      "execution_count": 84,
      "outputs": []
    },
    {
      "cell_type": "code",
      "metadata": {
        "colab": {
          "base_uri": "https://localhost:8080/"
        },
        "id": "0w-mIPpT93Iz",
        "outputId": "d95a305f-96e6-48b5-9ed0-50d9e19cadfb"
      },
      "source": [
        "# Cross Validation\r\n",
        "kf = KFold(n_splits=5, shuffle=True)\r\n",
        "\r\n",
        "\r\n",
        "# Create model instance\r\n",
        "model = FinetuneBertClassifier(2)\r\n",
        "model = model.to(device)\r\n",
        "\r\n",
        "# Define optimizer, loss fucntion and scheduler\r\n",
        "optimizer = AdamW(model.parameters(), lr=lr, correct_bias=False)\r\n",
        "total_steps = len(train_data_loader) * EPOCHS\r\n",
        "scheduler = get_linear_schedule_with_warmup(\r\n",
        "  optimizer,\r\n",
        "  num_warmup_steps=0,\r\n",
        "  num_training_steps=total_steps\r\n",
        ")\r\n",
        "loss_fn = nn.CrossEntropyLoss().to(device)\r\n",
        "\r\n",
        "\r\n",
        "fold_history_list = []\r\n",
        "fold_count = 1\r\n",
        "# For each choice of lr, perform 5-fold cross validation\r\n",
        "for train_index, val_index in kf.split(train):\r\n",
        "  # Within each fold\r\n",
        "  print('Fold: ', fold_count)\r\n",
        "  print('-' * 10)\r\n",
        "  fold_count += 1\r\n",
        "\r\n",
        "  # Split the training data into train and validation set\r\n",
        "  train_data = train.iloc[train_index] \r\n",
        "  val_data = train.iloc[val_index] \r\n",
        "\r\n",
        "  # Count the number of training and validation set\r\n",
        "  num_train_data = len(train_data)\r\n",
        "  num_val_data = len(val_data)\r\n",
        "\r\n",
        "  # Create dataloaders for training and validation set\r\n",
        "  train_data_loader = create_data_loader(train_data, TOKENIZER, MAX_LEN, BATCH_SIZE)\r\n",
        "  val_data_loader = create_data_loader(val_data, TOKENIZER, MAX_LEN, BATCH_SIZE)\r\n",
        "\r\n",
        "\r\n",
        "  # Train the model for some number of epochs\r\n",
        "  history = defaultdict(list)\r\n",
        "\r\n",
        "  for epoch in range(EPOCHS):\r\n",
        "    print(f'Epoch {epoch + 1}/{EPOCHS}')\r\n",
        "    print('-' * 10)\r\n",
        "\r\n",
        "    # Train\r\n",
        "    train_acc, train_loss = train_epoch(\r\n",
        "      model,\r\n",
        "      train_data_loader,\r\n",
        "      loss_fn,\r\n",
        "      optimizer,\r\n",
        "      device,\r\n",
        "      scheduler,\r\n",
        "      len(train_data)\r\n",
        "    )\r\n",
        "    print(f'Train loss {train_loss} accuracy {train_acc}')\r\n",
        "\r\n",
        "    # Validate\r\n",
        "    val_acc, val_loss = eval_model(\r\n",
        "      model,\r\n",
        "      val_data_loader,\r\n",
        "      loss_fn,\r\n",
        "      device,\r\n",
        "      len(val_data)\r\n",
        "    )\r\n",
        "    print(f'Val   loss {val_loss} accuracy {val_acc}')\r\n",
        "  \r\n",
        "    history['train_acc'].append(train_acc)\r\n",
        "    history['train_loss'].append(train_loss)\r\n",
        "    history['val_acc'].append(val_acc)\r\n",
        "    history['val_loss'].append(val_loss)\r\n",
        "\r\n",
        "  # When we finish all epochs of current fold, \r\n",
        "  # history will be of size (4, EPOCHS)\r\n",
        "\r\n",
        "\r\n",
        "  # Then we append all epoch histories in current fold\r\n",
        "  # into fold_history_list\r\n",
        "  fold_history_list.append(history)\r\n",
        "\r\n"
      ],
      "execution_count": 85,
      "outputs": [
        {
          "output_type": "stream",
          "text": [
            "Fold:  1\n",
            "----------\n",
            "Epoch 1/5\n",
            "----------\n",
            "Train loss 0.49785079034679225 accuracy 0.774384236453202\n",
            "Val   loss 0.40758809447288513 accuracy 0.8135259356533158\n",
            "Epoch 2/5\n",
            "----------\n",
            "Train loss 0.33902962538974446 accuracy 0.864696223316913\n",
            "Val   loss 0.4382954682999601 accuracy 0.8141825344714378\n",
            "Epoch 3/5\n",
            "----------\n",
            "Train loss 0.23120109604413167 accuracy 0.912807881773399\n",
            "Val   loss 0.5261786555250486 accuracy 0.8207485226526592\n",
            "Epoch 4/5\n",
            "----------\n",
            "Train loss 0.15206795508293094 accuracy 0.9446633825944171\n",
            "Val   loss 0.6875047297216952 accuracy 0.8030203545633617\n",
            "Epoch 5/5\n",
            "----------\n",
            "Train loss 0.10125551634944771 accuracy 0.9637110016420362\n",
            "Val   loss 0.7195942912561198 accuracy 0.8194353250164149\n",
            "Fold:  2\n",
            "----------\n",
            "Epoch 1/5\n",
            "----------\n",
            "Train loss 0.23821454119401697 accuracy 0.9333333333333333\n",
            "Val   loss 0.06327119421621319 accuracy 0.9737360472751149\n",
            "Epoch 2/5\n",
            "----------\n",
            "Train loss 0.23761937461448443 accuracy 0.9336617405582923\n",
            "Val   loss 0.06327119421621319 accuracy 0.9737360472751149\n",
            "Epoch 3/5\n",
            "----------\n",
            "Train loss 0.2442796025015304 accuracy 0.9279146141215107\n",
            "Val   loss 0.06327119421621319 accuracy 0.9737360472751149\n",
            "Epoch 4/5\n",
            "----------\n",
            "Train loss 0.24087452791196645 accuracy 0.9308702791461413\n",
            "Val   loss 0.06327119421621319 accuracy 0.9737360472751149\n",
            "Epoch 5/5\n",
            "----------\n",
            "Train loss 0.24815303902248412 accuracy 0.932512315270936\n",
            "Val   loss 0.06327119421621319 accuracy 0.9737360472751149\n",
            "Fold:  3\n",
            "----------\n",
            "Epoch 1/5\n",
            "----------\n",
            "Train loss 0.24114784945067047 accuracy 0.9302134646962233\n",
            "Val   loss 0.0815010888230366 accuracy 0.9684832567301378\n",
            "Epoch 2/5\n",
            "----------\n",
            "Train loss 0.23686322434080023 accuracy 0.9292282430213465\n",
            "Val   loss 0.0815010888230366 accuracy 0.9684832567301378\n",
            "Epoch 3/5\n",
            "----------\n",
            "Train loss 0.24105780696693238 accuracy 0.9305418719211823\n",
            "Val   loss 0.0815010888230366 accuracy 0.9684832567301378\n",
            "Epoch 4/5\n",
            "----------\n",
            "Train loss 0.24440564311652552 accuracy 0.9298850574712644\n",
            "Val   loss 0.0815010888230366 accuracy 0.9684832567301378\n",
            "Epoch 5/5\n",
            "----------\n",
            "Train loss 0.24384359371054828 accuracy 0.9290640394088671\n",
            "Val   loss 0.0815010888230366 accuracy 0.9684832567301378\n",
            "Fold:  4\n",
            "----------\n",
            "Epoch 1/5\n",
            "----------\n",
            "Train loss 0.24225001977707858 accuracy 0.9305532753242489\n",
            "Val   loss 0.054804382603227474 accuracy 0.9796320630749015\n",
            "Epoch 2/5\n",
            "----------\n",
            "Train loss 0.24753990442448184 accuracy 0.9290756854375307\n",
            "Val   loss 0.054804382603227474 accuracy 0.9796320630749015\n",
            "Epoch 3/5\n",
            "----------\n",
            "Train loss 0.2435011061357032 accuracy 0.928911508783451\n",
            "Val   loss 0.054804382603227474 accuracy 0.9796320630749015\n",
            "Epoch 4/5\n",
            "----------\n",
            "Train loss 0.24247927039420397 accuracy 0.9318666885568871\n",
            "Val   loss 0.054804382603227474 accuracy 0.9796320630749015\n",
            "Epoch 5/5\n",
            "----------\n",
            "Train loss 0.2538862878816929 accuracy 0.9272697422426531\n",
            "Val   loss 0.054804382603227474 accuracy 0.9796320630749015\n",
            "Fold:  5\n",
            "----------\n",
            "Epoch 1/5\n",
            "----------\n",
            "Train loss 0.242482573703341 accuracy 0.932030865210967\n",
            "Val   loss 0.07170119932076584 accuracy 0.9717477003942182\n",
            "Epoch 2/5\n",
            "----------\n",
            "Train loss 0.24511014375925863 accuracy 0.9325233951732064\n",
            "Val   loss 0.07170119932076584 accuracy 0.9717477003942182\n",
            "Epoch 3/5\n",
            "----------\n",
            "Train loss 0.24334331156767622 accuracy 0.9313741585946478\n",
            "Val   loss 0.07170119932076584 accuracy 0.9717477003942182\n",
            "Epoch 4/5\n",
            "----------\n",
            "Train loss 0.24131792408648234 accuracy 0.9318666885568871\n",
            "Val   loss 0.07170119932076584 accuracy 0.9717477003942182\n",
            "Epoch 5/5\n",
            "----------\n",
            "Train loss 0.24187682117810913 accuracy 0.9318666885568871\n",
            "Val   loss 0.07170119932076584 accuracy 0.9717477003942182\n"
          ],
          "name": "stdout"
        }
      ]
    },
    {
      "cell_type": "code",
      "metadata": {
        "colab": {
          "base_uri": "https://localhost:8080/"
        },
        "id": "wkaI7LBCKPz8",
        "outputId": "79c5748a-0a19-4d3d-ca8a-26d33984aa05"
      },
      "source": [
        "val_acc_list = []\r\n",
        "for fold in fold_history_list:\r\n",
        "  acc_list = fold['val_acc']\r\n",
        "  for acc in acc_list:\r\n",
        "    acc = acc.item()\r\n",
        "    val_acc_list.append(acc)\r\n",
        "    \r\n",
        "print(val_acc_list)    "
      ],
      "execution_count": 95,
      "outputs": [
        {
          "output_type": "stream",
          "text": [
            "[0.8135259356533158, 0.8141825344714378, 0.8207485226526592, 0.8030203545633617, 0.8194353250164149, 0.9737360472751149, 0.9737360472751149, 0.9737360472751149, 0.9737360472751149, 0.9737360472751149, 0.9684832567301378, 0.9684832567301378, 0.9684832567301378, 0.9684832567301378, 0.9684832567301378, 0.9796320630749015, 0.9796320630749015, 0.9796320630749015, 0.9796320630749015, 0.9796320630749015, 0.9717477003942182, 0.9717477003942182, 0.9717477003942182, 0.9717477003942182, 0.9717477003942182]\n"
          ],
          "name": "stdout"
        }
      ]
    },
    {
      "cell_type": "code",
      "metadata": {
        "colab": {
          "base_uri": "https://localhost:8080/",
          "height": 296
        },
        "id": "BTQbSu7P_q5V",
        "outputId": "68d83d8a-3c53-44a9-de93-b9315bbcafbb"
      },
      "source": [
        "plt.plot(val_acc_list)\r\n",
        "plt.ylabel('Validation Accuracy')\r\n",
        "plt.xlabel('Epoch')\r\n",
        "\r\n",
        "print('Best validation accuracy: ', max(val_acc_list))"
      ],
      "execution_count": 100,
      "outputs": [
        {
          "output_type": "stream",
          "text": [
            "Best validation accuracy:  0.9796320630749015\n"
          ],
          "name": "stdout"
        },
        {
          "output_type": "display_data",
          "data": {
            "image/png": "[encoded data removed]",
            "text/plain": [
              "<Figure size 432x288 with 1 Axes>"
            ]
          },
          "metadata": {
            "tags": [],
            "needs_background": "light"
          }
        }
      ]
    },
    {
      "cell_type": "markdown",
      "metadata": {
        "id": "M5cF0iOE_rir"
      },
      "source": [
        "# Testing"
      ]
    },
    {
      "cell_type": "code",
      "metadata": {
        "id": "X5xy2q2G_sqg"
      },
      "source": [
        "BATCH_SIZE = 32\r\n",
        "MAX_LEN = 32\r\n",
        "TOKENIZER = BertTokenizer.from_pretrained(PRE_TRAINED_MODEL_NAME)"
      ],
      "execution_count": 101,
      "outputs": []
    },
    {
      "cell_type": "code",
      "metadata": {
        "id": "JMFsHrDZ_7FE"
      },
      "source": [
        "# Create test dataloader\r\n",
        "test_data_loader = create_data_loader(test, TOKENIZER, MAX_LEN, BATCH_SIZE)"
      ],
      "execution_count": 102,
      "outputs": []
    },
    {
      "cell_type": "code",
      "metadata": {
        "id": "N_jmKoX8Bgyw"
      },
      "source": [
        ""
      ],
      "execution_count": null,
      "outputs": []
    },
    {
      "cell_type": "code",
      "metadata": {
        "id": "nbodFb5cAFhg"
      },
      "source": [
        "# Make prediction on test set\r\n",
        "test_acc, _ = eval_model(\r\n",
        "  model,\r\n",
        "  test_data_loader,\r\n",
        "  loss_fn,\r\n",
        "  device,\r\n",
        "  len(test)\r\n",
        ")"
      ],
      "execution_count": 105,
      "outputs": []
    },
    {
      "cell_type": "code",
      "metadata": {
        "colab": {
          "base_uri": "https://localhost:8080/"
        },
        "id": "xOmFvB31ASjs",
        "outputId": "3799cdf7-44f6-466d-9711-d660331adfb8"
      },
      "source": [
        "test_acc.item()"
      ],
      "execution_count": 104,
      "outputs": [
        {
          "output_type": "execute_result",
          "data": {
            "text/plain": [
              "0.5902543671467974"
            ]
          },
          "metadata": {
            "tags": []
          },
          "execution_count": 104
        }
      ]
    },
    {
      "cell_type": "code",
      "metadata": {
        "id": "MQMjrrm-R3Nh"
      },
      "source": [
        ""
      ],
      "execution_count": null,
      "outputs": []
    }
  ]
}